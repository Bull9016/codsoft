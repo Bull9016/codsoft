{
  "cells": [
    {
      "cell_type": "markdown",
      "metadata": {
        "id": "view-in-github",
        "colab_type": "text"
      },
      "source": [
        "<a href=\"https://colab.research.google.com/github/Bull9016/codsoft/blob/main/MoviePrediction.ipynb\" target=\"_parent\"><img src=\"https://colab.research.google.com/assets/colab-badge.svg\" alt=\"Open In Colab\"/></a>"
      ]
    },
    {
      "cell_type": "code",
      "execution_count": null,
      "metadata": {
        "id": "Pi_0LV_30qVh"
      },
      "outputs": [],
      "source": [
        "import pandas as pd\n",
        "import numpy as np\n",
        "from sklearn.model_selection import train_test_split\n",
        "from sklearn.preprocessing import OneHotEncoder, StandardScaler\n",
        "from sklearn.linear_model import LinearRegression\n",
        "from sklearn.metrics import mean_squared_error, r2_score"
      ]
    },
    {
      "cell_type": "code",
      "execution_count": null,
      "metadata": {
        "id": "0BDsBzLT2Fcv"
      },
      "outputs": [],
      "source": [
        "# Load the dataset\n",
        "file_path = 'IMDb Movies India.csv'\n",
        "movie_data = pd.read_csv(file_path, encoding='latin1')\n"
      ]
    },
    {
      "cell_type": "code",
      "execution_count": null,
      "metadata": {
        "colab": {
          "base_uri": "https://localhost:8080/"
        },
        "id": "1OmOKUZv2GX8",
        "outputId": "86f1418e-0e17-40f6-da51-0146b26ab808"
      },
      "outputs": [
        {
          "name": "stdout",
          "output_type": "stream",
          "text": [
            "Dataset Info:\n",
            "<class 'pandas.core.frame.DataFrame'>\n",
            "RangeIndex: 15509 entries, 0 to 15508\n",
            "Data columns (total 10 columns):\n",
            " #   Column    Non-Null Count  Dtype  \n",
            "---  ------    --------------  -----  \n",
            " 0   Name      15509 non-null  object \n",
            " 1   Year      14981 non-null  object \n",
            " 2   Duration  7240 non-null   object \n",
            " 3   Genre     13632 non-null  object \n",
            " 4   Rating    7919 non-null   float64\n",
            " 5   Votes     7920 non-null   object \n",
            " 6   Director  14984 non-null  object \n",
            " 7   Actor 1   13892 non-null  object \n",
            " 8   Actor 2   13125 non-null  object \n",
            " 9   Actor 3   12365 non-null  object \n",
            "dtypes: float64(1), object(9)\n",
            "memory usage: 1.2+ MB\n",
            "None\n",
            "\n",
            "Missing Values:\n",
            "Name           0\n",
            "Year         528\n",
            "Duration    8269\n",
            "Genre       1877\n",
            "Rating      7590\n",
            "Votes       7589\n",
            "Director     525\n",
            "Actor 1     1617\n",
            "Actor 2     2384\n",
            "Actor 3     3144\n",
            "dtype: int64\n"
          ]
        }
      ],
      "source": [
        "# Data exploration\n",
        "print(\"Dataset Info:\")\n",
        "print(movie_data.info())\n",
        "print(\"\\nMissing Values:\")\n",
        "print(movie_data.isnull().sum())"
      ]
    },
    {
      "cell_type": "code",
      "execution_count": null,
      "metadata": {
        "colab": {
          "base_uri": "https://localhost:8080/"
        },
        "id": "ccBrF-lZ2kXp",
        "outputId": "eba9420c-0f04-48de-ac37-334d3f019234"
      },
      "outputs": [
        {
          "name": "stdout",
          "output_type": "stream",
          "text": [
            "                                     Name    Year Duration  \\\n",
            "1      #Gadhvi (He thought he was Gandhi)  (2019)  109 min   \n",
            "3                                 #Yaaram  (2019)  110 min   \n",
            "5                    ...Aur Pyaar Ho Gaya  (1997)  147 min   \n",
            "6                               ...Yahaan  (2005)  142 min   \n",
            "8                      ?: A Question Mark  (2012)   82 min   \n",
            "...                                   ...     ...      ...   \n",
            "15501                     Zulm Ki Hukumat  (1992)      NaN   \n",
            "15503                     Zulm Ki Zanjeer  (1989)  125 min   \n",
            "15504                 Zulm Ko Jala Doonga  (1988)      NaN   \n",
            "15505                               Zulmi  (1999)  129 min   \n",
            "15508                        Zulm-O-Sitam  (1998)  130 min   \n",
            "\n",
            "                           Genre  Rating  Votes           Director  \\\n",
            "1                          Drama     7.0      8      Gaurav Bakshi   \n",
            "3                Comedy, Romance     4.4     35         Ovais Khan   \n",
            "5         Comedy, Drama, Musical     4.7    827       Rahul Rawail   \n",
            "6            Drama, Romance, War     7.4  1,086     Shoojit Sircar   \n",
            "8      Horror, Mystery, Thriller     5.6    326      Allyson Patel   \n",
            "...                          ...     ...    ...                ...   \n",
            "15501       Action, Crime, Drama     5.3    135  Bharat Rangachary   \n",
            "15503       Action, Crime, Drama     5.8     44    S.P. Muthuraman   \n",
            "15504                     Action     4.6     11      Mahendra Shah   \n",
            "15505              Action, Drama     4.5    655         Kuku Kohli   \n",
            "15508              Action, Drama     6.2     20       K.C. Bokadia   \n",
            "\n",
            "                Actor 1                 Actor 2          Actor 3  \n",
            "1          Rasika Dugal          Vivek Ghamande    Arvind Jangid  \n",
            "3               Prateik              Ishita Raj  Siddhant Kapoor  \n",
            "5            Bobby Deol  Aishwarya Rai Bachchan    Shammi Kapoor  \n",
            "6       Jimmy Sheirgill          Minissha Lamba   Yashpal Sharma  \n",
            "8             Yash Dave          Muntazir Ahmad     Kiran Bhatia  \n",
            "...                 ...                     ...              ...  \n",
            "15501        Dharmendra     Moushumi Chatterjee          Govinda  \n",
            "15503       Chiranjeevi              Jayamalini      Rajinikanth  \n",
            "15504  Naseeruddin Shah           Sumeet Saigal    Suparna Anand  \n",
            "15505      Akshay Kumar          Twinkle Khanna      Aruna Irani  \n",
            "15508        Dharmendra              Jaya Prada      Arjun Sarja  \n",
            "\n",
            "[7919 rows x 10 columns]\n"
          ]
        }
      ],
      "source": [
        "# Drop rows with missing target (Rating)\n",
        "movie_data = movie_data.dropna(subset=['Rating'])\n",
        "print(movie_data)"
      ]
    },
    {
      "cell_type": "code",
      "execution_count": null,
      "metadata": {
        "id": "qs-bU6fl3F1m"
      },
      "outputs": [],
      "source": [
        "# Fill missing values in other columns\n",
        "movie_data['Duration'] = movie_data['Duration'].str.replace(' min', '').astype(float)\n",
        "movie_data['Duration'] = movie_data['Duration'].fillna(movie_data['Duration'].median())\n",
        "movie_data['Votes'] = movie_data['Votes'].fillna(0)"
      ]
    },
    {
      "cell_type": "code",
      "execution_count": null,
      "metadata": {
        "id": "TZ4rTEjv3NDO"
      },
      "outputs": [],
      "source": [
        "# Extract year as numeric\n",
        "movie_data['Year'] = movie_data['Year'].str.extract('(\\d{4})').astype(float)"
      ]
    },
    {
      "cell_type": "code",
      "execution_count": null,
      "metadata": {
        "id": "kSDHQk1M5thk"
      },
      "outputs": [],
      "source": [
        "# Select relevant features\n",
        "features = ['Duration', 'Genre', 'Director', 'Votes', 'Actor 1', 'Actor 2', 'Actor 3']\n",
        "target = 'Rating'"
      ]
    },
    {
      "cell_type": "code",
      "execution_count": null,
      "metadata": {
        "id": "imiwJ3gT6KxL"
      },
      "outputs": [],
      "source": [
        "# Handle categorical variables using one-hot encoding\n",
        "categorical_features = ['Genre', 'Director', 'Actor 1', 'Actor 2', 'Actor 3']\n",
        "encoder = OneHotEncoder(handle_unknown='ignore', sparse_output=False)\n",
        "encoded_features = encoder.fit_transform(movie_data[categorical_features])\n"
      ]
    },
    {
      "cell_type": "code",
      "execution_count": null,
      "metadata": {
        "id": "_EGOZu8W6No-"
      },
      "outputs": [],
      "source": [
        "movie_data['Votes'] = movie_data['Votes'].str.replace(',', '').astype(float)\n",
        "# Scale numerical features\n",
        "numerical_features = ['Duration', 'Votes']\n",
        "scaler = StandardScaler()\n",
        "scaled_features = scaler.fit_transform(movie_data[numerical_features])"
      ]
    },
    {
      "cell_type": "code",
      "execution_count": null,
      "metadata": {
        "id": "--GT8Q7B6Qh0"
      },
      "outputs": [],
      "source": [
        "# Combine all features\n",
        "X = np.hstack([scaled_features, encoded_features])\n",
        "y = movie_data[target]\n"
      ]
    },
    {
      "cell_type": "code",
      "execution_count": null,
      "metadata": {
        "colab": {
          "background_save": true
        },
        "id": "q_QmyHO26UHo",
        "outputId": "8fc36159-3cc2-45ed-852b-3e84ce805895"
      },
      "outputs": [
        {
          "name": "stdout",
          "output_type": "stream",
          "text": [
            "Mean Squared Error: 6.34\n",
            "R-squared Score: -2.41\n"
          ]
        }
      ],
      "source": [
        "# Split data into train and test sets\n",
        "X_train, X_test, y_train, y_test = train_test_split(X, y, test_size=0.2, random_state=42)\n",
        "\n",
        "# Build a linear regression model\n",
        "model = LinearRegression()\n",
        "model.fit(X_train, y_train)\n",
        "\n",
        "# Predict and evaluate\n",
        "y_pred = model.predict(X_test)\n",
        "mse = mean_squared_error(y_test, y_pred)\n",
        "r2 = r2_score(y_test, y_pred)\n",
        "\n",
        "print(f\"Mean Squared Error: {mse:.2f}\")\n",
        "print(f\"R-squared Score: {r2:.2f}\")"
      ]
    }
  ],
  "metadata": {
    "colab": {
      "provenance": [],
      "authorship_tag": "ABX9TyMl2lKV3mzlNS3BAtBwXTMx",
      "include_colab_link": true
    },
    "kernelspec": {
      "display_name": "Python 3",
      "name": "python3"
    },
    "language_info": {
      "name": "python"
    }
  },
  "nbformat": 4,
  "nbformat_minor": 0
}